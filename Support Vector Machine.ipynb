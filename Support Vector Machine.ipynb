{
 "cells": [
  {
   "cell_type": "markdown",
   "id": "81fab448",
   "metadata": {},
   "source": [
    "# Support Vector Machine (SVM)\n",
    "## Conceito\n",
    "O SVM é um modelo que tenta separar classes por um hiperplano, mas ele tenta otimizar por onde essa linha deve percorrer calculando a distância da reta aos pontos mais próximos dela, a margem do SVM é a distância entre a reta calculada com os dados mais próximos\n",
    "<img src=\"Imagens/SVM/SVM.png\"  width=\"800\"/>\n",
    "\n",
    "O SVM também funciona em planos 3D, ele calcula o melhor plano para classificar os dados, voltando e quando voltado ao domínio 2D permite uma maior complexidade em categorizar os dados\n",
    "\n",
    "<img src=\"Imagens/SVM/SVM2.png\"  width=\"800\"/>"
   ]
  },
  {
   "cell_type": "markdown",
   "id": "2b0d0444",
   "metadata": {},
   "source": [
    "## Vantagens\n",
    "    - Funciona melhor quando tem uma margem bem definida\n",
    "    - Lida bem com espaços de altas dimensões\n",
    "    - Possui eficiência na memória\n"
   ]
  },
  {
   "cell_type": "markdown",
   "id": "a3567826",
   "metadata": {},
   "source": [
    "## Desvantagens\n",
    "    - Não é bom com grandes datasets\n",
    "    - Requer um pré processamento dos dados para afinar os parâmetros\n"
   ]
  },
  {
   "cell_type": "markdown",
   "id": "546334f6",
   "metadata": {},
   "source": [
    "## Classes de Problemas com melhores resultados:\n",
    "\n",
    "SVM permite complexas fronteiras na separação de dados mesmo com dados com baixa dimensão, funcionam bem tanto em baixa quanto alta dimensões mas não com um grande dataset."
   ]
  },
  {
   "cell_type": "markdown",
   "id": "43b6ac35",
   "metadata": {},
   "source": [
    "## Exemplo"
   ]
  },
  {
   "cell_type": "code",
   "execution_count": 2,
   "id": "fd7f1851",
   "metadata": {},
   "outputs": [],
   "source": [
    "import numpy as np\n",
    "import pandas as pd\n",
    "import matplotlib.pyplot as plt\n",
    "import seaborn as sns\n",
    "%matplotlib inline"
   ]
  },
  {
   "cell_type": "markdown",
   "id": "736808a2",
   "metadata": {},
   "source": [
    "### Pimeiro Passo: Obter os dados"
   ]
  },
  {
   "cell_type": "code",
   "execution_count": 3,
   "id": "1174a369",
   "metadata": {},
   "outputs": [],
   "source": [
    "main = pd.read_csv('diabetes.csv')"
   ]
  },
  {
   "cell_type": "code",
   "execution_count": 4,
   "id": "99f16baa",
   "metadata": {},
   "outputs": [
    {
     "data": {
      "text/html": [
       "<div>\n",
       "<style scoped>\n",
       "    .dataframe tbody tr th:only-of-type {\n",
       "        vertical-align: middle;\n",
       "    }\n",
       "\n",
       "    .dataframe tbody tr th {\n",
       "        vertical-align: top;\n",
       "    }\n",
       "\n",
       "    .dataframe thead th {\n",
       "        text-align: right;\n",
       "    }\n",
       "</style>\n",
       "<table border=\"1\" class=\"dataframe\">\n",
       "  <thead>\n",
       "    <tr style=\"text-align: right;\">\n",
       "      <th></th>\n",
       "      <th>Pregnancies</th>\n",
       "      <th>Glucose</th>\n",
       "      <th>BloodPressure</th>\n",
       "      <th>SkinThickness</th>\n",
       "      <th>Insulin</th>\n",
       "      <th>BMI</th>\n",
       "      <th>DiabetesPedigreeFunction</th>\n",
       "      <th>Age</th>\n",
       "      <th>Outcome</th>\n",
       "    </tr>\n",
       "  </thead>\n",
       "  <tbody>\n",
       "    <tr>\n",
       "      <th>0</th>\n",
       "      <td>6</td>\n",
       "      <td>148</td>\n",
       "      <td>72</td>\n",
       "      <td>35</td>\n",
       "      <td>0</td>\n",
       "      <td>33.6</td>\n",
       "      <td>0.627</td>\n",
       "      <td>50</td>\n",
       "      <td>1</td>\n",
       "    </tr>\n",
       "    <tr>\n",
       "      <th>1</th>\n",
       "      <td>1</td>\n",
       "      <td>85</td>\n",
       "      <td>66</td>\n",
       "      <td>29</td>\n",
       "      <td>0</td>\n",
       "      <td>26.6</td>\n",
       "      <td>0.351</td>\n",
       "      <td>31</td>\n",
       "      <td>0</td>\n",
       "    </tr>\n",
       "    <tr>\n",
       "      <th>2</th>\n",
       "      <td>8</td>\n",
       "      <td>183</td>\n",
       "      <td>64</td>\n",
       "      <td>0</td>\n",
       "      <td>0</td>\n",
       "      <td>23.3</td>\n",
       "      <td>0.672</td>\n",
       "      <td>32</td>\n",
       "      <td>1</td>\n",
       "    </tr>\n",
       "    <tr>\n",
       "      <th>3</th>\n",
       "      <td>1</td>\n",
       "      <td>89</td>\n",
       "      <td>66</td>\n",
       "      <td>23</td>\n",
       "      <td>94</td>\n",
       "      <td>28.1</td>\n",
       "      <td>0.167</td>\n",
       "      <td>21</td>\n",
       "      <td>0</td>\n",
       "    </tr>\n",
       "    <tr>\n",
       "      <th>4</th>\n",
       "      <td>0</td>\n",
       "      <td>137</td>\n",
       "      <td>40</td>\n",
       "      <td>35</td>\n",
       "      <td>168</td>\n",
       "      <td>43.1</td>\n",
       "      <td>2.288</td>\n",
       "      <td>33</td>\n",
       "      <td>1</td>\n",
       "    </tr>\n",
       "  </tbody>\n",
       "</table>\n",
       "</div>"
      ],
      "text/plain": [
       "   Pregnancies  Glucose  BloodPressure  SkinThickness  Insulin   BMI  \\\n",
       "0            6      148             72             35        0  33.6   \n",
       "1            1       85             66             29        0  26.6   \n",
       "2            8      183             64              0        0  23.3   \n",
       "3            1       89             66             23       94  28.1   \n",
       "4            0      137             40             35      168  43.1   \n",
       "\n",
       "   DiabetesPedigreeFunction  Age  Outcome  \n",
       "0                     0.627   50        1  \n",
       "1                     0.351   31        0  \n",
       "2                     0.672   32        1  \n",
       "3                     0.167   21        0  \n",
       "4                     2.288   33        1  "
      ]
     },
     "execution_count": 4,
     "metadata": {},
     "output_type": "execute_result"
    }
   ],
   "source": [
    "main.head()"
   ]
  },
  {
   "cell_type": "markdown",
   "id": "02f455c4",
   "metadata": {},
   "source": [
    "### Segundo Passo: Divisão treino-teste"
   ]
  },
  {
   "cell_type": "code",
   "execution_count": 5,
   "id": "6e506ba3",
   "metadata": {},
   "outputs": [],
   "source": [
    "from sklearn.model_selection import train_test_split"
   ]
  },
  {
   "cell_type": "code",
   "execution_count": 6,
   "id": "5f3723d0",
   "metadata": {},
   "outputs": [],
   "source": [
    "x = main.drop('Outcome',axis=1)\n",
    "y = main['Outcome']\n",
    "x_train, x_test, y_train, y_test = train_test_split(x,y,test_size=0.3, random_state=101)"
   ]
  },
  {
   "cell_type": "markdown",
   "id": "46878983",
   "metadata": {},
   "source": [
    "### Terceiro passo: Treinar o modelo"
   ]
  },
  {
   "cell_type": "code",
   "execution_count": 7,
   "id": "26cb4d15",
   "metadata": {},
   "outputs": [],
   "source": [
    "from sklearn.svm import SVC"
   ]
  },
  {
   "cell_type": "code",
   "execution_count": 8,
   "id": "8ad0b8db",
   "metadata": {},
   "outputs": [],
   "source": [
    "svc_model= SVC()"
   ]
  },
  {
   "cell_type": "code",
   "execution_count": 9,
   "id": "73229d57",
   "metadata": {},
   "outputs": [
    {
     "data": {
      "text/plain": [
       "SVC()"
      ]
     },
     "execution_count": 9,
     "metadata": {},
     "output_type": "execute_result"
    }
   ],
   "source": [
    "svc_model.fit(x_train,y_train)"
   ]
  },
  {
   "cell_type": "markdown",
   "id": "ed6f1310",
   "metadata": {},
   "source": [
    "Quarto Passo: Avaliar o modelo"
   ]
  },
  {
   "cell_type": "code",
   "execution_count": 11,
   "id": "35a4b90c",
   "metadata": {},
   "outputs": [],
   "source": [
    "pred = svc_model.predict(x_test)"
   ]
  },
  {
   "cell_type": "code",
   "execution_count": 12,
   "id": "a6f11bc8",
   "metadata": {},
   "outputs": [],
   "source": [
    "from sklearn.metrics import classification_report,confusion_matrix"
   ]
  },
  {
   "cell_type": "code",
   "execution_count": 14,
   "id": "ca9cd660",
   "metadata": {},
   "outputs": [
    {
     "name": "stdout",
     "output_type": "stream",
     "text": [
      "[[139  11]\n",
      " [ 40  41]]\n"
     ]
    }
   ],
   "source": [
    "print(confusion_matrix(y_test,pred))"
   ]
  },
  {
   "cell_type": "code",
   "execution_count": 15,
   "id": "239ce998",
   "metadata": {},
   "outputs": [
    {
     "name": "stdout",
     "output_type": "stream",
     "text": [
      "              precision    recall  f1-score   support\n",
      "\n",
      "           0       0.78      0.93      0.84       150\n",
      "           1       0.79      0.51      0.62        81\n",
      "\n",
      "    accuracy                           0.78       231\n",
      "   macro avg       0.78      0.72      0.73       231\n",
      "weighted avg       0.78      0.78      0.76       231\n",
      "\n"
     ]
    }
   ],
   "source": [
    "print(classification_report(y_test,pred))"
   ]
  },
  {
   "cell_type": "markdown",
   "id": "dd08f65e",
   "metadata": {},
   "source": [
    "SVM deu um modelo de 78% de Precisão, bem parecido com o KNN"
   ]
  },
  {
   "cell_type": "code",
   "execution_count": null,
   "id": "adc9963a",
   "metadata": {},
   "outputs": [],
   "source": []
  }
 ],
 "metadata": {
  "kernelspec": {
   "display_name": "Python 3",
   "language": "python",
   "name": "python3"
  },
  "language_info": {
   "codemirror_mode": {
    "name": "ipython",
    "version": 3
   },
   "file_extension": ".py",
   "mimetype": "text/x-python",
   "name": "python",
   "nbconvert_exporter": "python",
   "pygments_lexer": "ipython3",
   "version": "3.8.8"
  }
 },
 "nbformat": 4,
 "nbformat_minor": 5
}
